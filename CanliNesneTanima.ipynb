{
 "cells": [
  {
   "cell_type": "code",
   "execution_count": 8,
   "id": "25f658ea",
   "metadata": {},
   "outputs": [],
   "source": [
    "#IP cam\n",
    "import cvlib as cv\n",
    "from cvlib.object_detection import draw_bbox  # YOLO\n",
    "import cv2\n",
    "\n",
    "# Ipcam ile Ip üzerinden de görüntü alınabilir.\n",
    "#webcam = cv2.VideoCapture('http://10.33.158.53:8080/video')\n",
    "webcam = cv2.VideoCapture(0)\n",
    "while webcam.isOpened():\n",
    "    ret, frame = webcam.read()\n",
    "    if ret:\n",
    "        bbox, label, conf = cv.detect_common_objects(frame)\n",
    "        out = draw_bbox(frame, bbox, label, conf)\n",
    "        cv2.imshow('Gerçek zamanlı nesne tanıma', out)\n",
    "        if cv2.waitKey(1) & 0xFF == ord('q'):\n",
    "            break\n",
    "    else:\n",
    "        \n",
    "        break\n",
    "\n",
    "webcam.release()\n",
    "cv2.destroyAllWindows()"
   ]
  },
  {
   "cell_type": "code",
   "execution_count": 2,
   "id": "448aa9ae",
   "metadata": {},
   "outputs": [],
   "source": [
    "import cv2"
   ]
  },
  {
   "cell_type": "code",
   "execution_count": 3,
   "id": "f862c1c2",
   "metadata": {},
   "outputs": [
    {
     "data": {
      "text/plain": [
       "'4.9.0'"
      ]
     },
     "execution_count": 3,
     "metadata": {},
     "output_type": "execute_result"
    }
   ],
   "source": [
    "cv2.__version__"
   ]
  },
  {
   "cell_type": "code",
   "execution_count": 5,
   "id": "55016743",
   "metadata": {},
   "outputs": [
    {
     "data": {
      "text/plain": [
       "'0.2.7'"
      ]
     },
     "execution_count": 5,
     "metadata": {},
     "output_type": "execute_result"
    }
   ],
   "source": [
    "cv.__version__"
   ]
  },
  {
   "cell_type": "code",
   "execution_count": null,
   "id": "f1aa7598",
   "metadata": {},
   "outputs": [],
   "source": [
    "#pip uninstall opencv-python"
   ]
  },
  {
   "cell_type": "code",
   "execution_count": null,
   "id": "3e6cca57",
   "metadata": {},
   "outputs": [],
   "source": [
    "pip install opencv-python==4.9.0"
   ]
  },
  {
   "cell_type": "code",
   "execution_count": 7,
   "id": "eb345ee6",
   "metadata": {},
   "outputs": [
    {
     "data": {
      "text/plain": [
       "'4.9.0'"
      ]
     },
     "execution_count": 7,
     "metadata": {},
     "output_type": "execute_result"
    }
   ],
   "source": [
    "cv2.__version__"
   ]
  },
  {
   "cell_type": "code",
   "execution_count": null,
   "id": "9e41b5d3",
   "metadata": {},
   "outputs": [],
   "source": []
  }
 ],
 "metadata": {
  "kernelspec": {
   "display_name": "Python 3 (ipykernel)",
   "language": "python",
   "name": "python3"
  },
  "language_info": {
   "codemirror_mode": {
    "name": "ipython",
    "version": 3
   },
   "file_extension": ".py",
   "mimetype": "text/x-python",
   "name": "python",
   "nbconvert_exporter": "python",
   "pygments_lexer": "ipython3",
   "version": "3.11.5"
  }
 },
 "nbformat": 4,
 "nbformat_minor": 5
}
